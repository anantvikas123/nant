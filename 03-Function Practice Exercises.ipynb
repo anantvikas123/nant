{
 "cells": [
  {
   "cell_type": "markdown",
   "metadata": {},
   "source": [
    "# Function Practice Exercises\n",
    "\n",
    "Problems are arranged in increasing difficulty:\n",
    "* Warmup - these can be solved using basic comparisons and methods\n",
    "* Level 1 - these may involve if/then conditional statements and simple methods\n",
    "* Level 2 - these may require iterating over sequences, usually with some kind of loop\n",
    "* Challenging - these will take some creativity to solve"
   ]
  },
  {
   "cell_type": "markdown",
   "metadata": {},
   "source": [
    "## WARMUP SECTION:"
   ]
  },
  {
   "cell_type": "markdown",
   "metadata": {},
   "source": [
    "#### LESSER OF TWO EVENS: Write a function that returns the lesser of two given numbers *if* both numbers are even, but returns the greater if one or both numbers are odd\n",
    "    lesser_of_two_evens(2,4) --> 2\n",
    "    lesser_of_two_evens(2,5) --> 5"
   ]
  },
  {
   "cell_type": "code",
   "execution_count": 1,
   "metadata": {},
   "outputs": [],
   "source": [
    "def lesser_of_two_evens(a,b):\n",
    "    if a<b:\n",
    "        print('lesser_of_two_evens({},{}) is -----> {}'.format(a,b,a))\n",
    "    else:\n",
    "        print('lesser_of_two_evens({},{}) is ------> {}'.format(a,b,b))"
   ]
  },
  {
   "cell_type": "code",
   "execution_count": 2,
   "metadata": {},
   "outputs": [
    {
     "name": "stdout",
     "output_type": "stream",
     "text": [
      "lesser_of_two_evens(2,4) is -----> 2\n"
     ]
    }
   ],
   "source": [
    "# Check\n",
    "lesser_of_two_evens(2,4)"
   ]
  },
  {
   "cell_type": "code",
   "execution_count": 3,
   "metadata": {},
   "outputs": [
    {
     "name": "stdout",
     "output_type": "stream",
     "text": [
      "lesser_of_two_evens(2,1) is ------> 1\n"
     ]
    }
   ],
   "source": [
    "# Check\n",
    "lesser_of_two_evens(2,1)"
   ]
  },
  {
   "cell_type": "markdown",
   "metadata": {},
   "source": [
    "#### ANIMAL CRACKERS: Write a function takes a two-word string and returns True if both words begin with same letter\n",
    "    animal_crackers('Levelheaded Llama') --> True\n",
    "    animal_crackers('Crazy Kangaroo') --> False"
   ]
  },
  {
   "cell_type": "code",
   "execution_count": 173,
   "metadata": {},
   "outputs": [],
   "source": [
    "def animal_crackers(text):\n",
    "    li=list(text.split(' '))\n",
    "    print(li[0][0])\n",
    "    print(li[1][0])\n",
    "    if li[0][0]==li[1][0]:\n",
    "        return True\n",
    "    else:\n",
    "        return False"
   ]
  },
  {
   "cell_type": "code",
   "execution_count": 174,
   "metadata": {},
   "outputs": [
    {
     "name": "stdout",
     "output_type": "stream",
     "text": [
      "R\n",
      "R\n"
     ]
    },
    {
     "data": {
      "text/plain": [
       "True"
      ]
     },
     "execution_count": 174,
     "metadata": {},
     "output_type": "execute_result"
    }
   ],
   "source": [
    "# Check\n",
    "animal_crackers('Raja Ram')"
   ]
  },
  {
   "cell_type": "code",
   "execution_count": 175,
   "metadata": {},
   "outputs": [
    {
     "name": "stdout",
     "output_type": "stream",
     "text": [
      "S\n",
      "L\n"
     ]
    },
    {
     "data": {
      "text/plain": [
       "False"
      ]
     },
     "execution_count": 175,
     "metadata": {},
     "output_type": "execute_result"
    }
   ],
   "source": [
    "# Check\n",
    "animal_crackers('Sohan Lal')"
   ]
  },
  {
   "cell_type": "markdown",
   "metadata": {},
   "source": [
    "#### MAKES TWENTY: Given two integers, return True if the sum of the integers is 20 *or* if one of the integers is 20. If not, return False\n",
    "\n",
    "    makes_twenty(20,10) --> True\n",
    "    makes_twenty(12,8) --> True\n",
    "    makes_twenty(2,3) --> False"
   ]
  },
  {
   "cell_type": "code",
   "execution_count": 17,
   "metadata": {},
   "outputs": [],
   "source": [
    "def makes_twenty(n1,n2):\n",
    "    sum1=n1+n2\n",
    "    if sum1==20 or n1==20 or n2==20:\n",
    "        return True\n",
    "    else:\n",
    "        return False"
   ]
  },
  {
   "cell_type": "code",
   "execution_count": 18,
   "metadata": {},
   "outputs": [
    {
     "data": {
      "text/plain": [
       "True"
      ]
     },
     "execution_count": 18,
     "metadata": {},
     "output_type": "execute_result"
    }
   ],
   "source": [
    "# Check\n",
    "makes_twenty(20,10)"
   ]
  },
  {
   "cell_type": "code",
   "execution_count": 19,
   "metadata": {},
   "outputs": [
    {
     "data": {
      "text/plain": [
       "False"
      ]
     },
     "execution_count": 19,
     "metadata": {},
     "output_type": "execute_result"
    }
   ],
   "source": [
    "# Check\n",
    "makes_twenty(2,3)"
   ]
  },
  {
   "cell_type": "markdown",
   "metadata": {},
   "source": [
    "# LEVEL 1 PROBLEMS"
   ]
  },
  {
   "cell_type": "markdown",
   "metadata": {},
   "source": [
    "#### OLD MACDONALD: Write a function that capitalizes the first and fourth letters of a name\n",
    "     \n",
    "    old_macdonald('macdonald') --> MacDonald\n",
    "    \n",
    "Note: `'macdonald'.capitalize()` returns `'Macdonald'`"
   ]
  },
  {
   "cell_type": "code",
   "execution_count": 20,
   "metadata": {},
   "outputs": [],
   "source": [
    "def old_macdonald(name):\n",
    "    li=list(name)\n",
    "    s=''\n",
    "    li[0]=li[0].upper()\n",
    "    li[3]=li[3].upper()\n",
    "    for item in li:\n",
    "        s=s+item\n",
    "    return s    "
   ]
  },
  {
   "cell_type": "code",
   "execution_count": 21,
   "metadata": {},
   "outputs": [
    {
     "data": {
      "text/plain": [
       "'MacDonald'"
      ]
     },
     "execution_count": 21,
     "metadata": {},
     "output_type": "execute_result"
    }
   ],
   "source": [
    " # Check\n",
    "old_macdonald('macdonald')"
   ]
  },
  {
   "cell_type": "markdown",
   "metadata": {},
   "source": [
    "#### MASTER YODA: Given a sentence, return a sentence with the words reversed\n",
    "\n",
    "    master_yoda('I am home') --> 'home am I'\n",
    "    master_yoda('We are ready') --> 'ready are We'\n",
    "    \n",
    "Note: The .join() method may be useful here. The .join() method allows you to join together strings in a list with some connector string. For example, some uses of the .join() method:\n",
    "\n",
    "    >>> \"--\".join(['a','b','c'])\n",
    "    >>> 'a--b--c'\n",
    "\n",
    "This means if you had a list of words you wanted to turn back into a sentence, you could just join them with a single space string:\n",
    "\n",
    "    >>> \" \".join(['Hello','world'])\n",
    "    >>> \"Hello world\""
   ]
  },
  {
   "cell_type": "code",
   "execution_count": 176,
   "metadata": {},
   "outputs": [],
   "source": [
    "def master_yoda(text):\n",
    "    li=list(text.split(' '))\n",
    "    li2=[]\n",
    "    temp=''\n",
    "    for item in li:\n",
    "        temp=temp+\" \"+li.pop()    \n",
    "    print('master_yoda({}) ----->  {}'.format(text,temp+\" \"+li[0]))\n",
    "         \n",
    "    "
   ]
  },
  {
   "cell_type": "code",
   "execution_count": 177,
   "metadata": {},
   "outputs": [
    {
     "name": "stdout",
     "output_type": "stream",
     "text": [
      "Enter your stringMy name is Dhaja Ram Sandhu and I go to walk everyday at 4 in the morning\n",
      "master_yoda(My name is Dhaja Ram Sandhu and I go to walk everyday at 4 in the morning) ----->   morning the in 4 at everyday walk to go My\n"
     ]
    }
   ],
   "source": [
    "# Check\n",
    "st=input(\"Enter your string\")\n",
    "master_yoda(st)"
   ]
  },
  {
   "cell_type": "code",
   "execution_count": 76,
   "metadata": {},
   "outputs": [
    {
     "name": "stdout",
     "output_type": "stream",
     "text": [
      "master_yoda(We are ready) ----->   ready are We\n"
     ]
    }
   ],
   "source": [
    "# Check\n",
    "master_yoda('We are ready')"
   ]
  },
  {
   "cell_type": "markdown",
   "metadata": {},
   "source": [
    "#### ALMOST THERE: Given an integer n, return True if n is within 10 of either 100 or 200\n",
    "\n",
    "    almost_there(90) --> True\n",
    "    almost_there(104) --> True\n",
    "    almost_there(150) --> False\n",
    "    almost_there(209) --> True\n",
    "    \n",
    "NOTE: `abs(num)` returns the absolute value of a number"
   ]
  },
  {
   "cell_type": "code",
   "execution_count": 77,
   "metadata": {},
   "outputs": [],
   "source": [
    "def almost_there(n):\n",
    "    if n in range(90,111) or n in range(190,210):\n",
    "        return True\n",
    "    else:\n",
    "        return False\n",
    "        \n",
    "    "
   ]
  },
  {
   "cell_type": "code",
   "execution_count": 78,
   "metadata": {},
   "outputs": [
    {
     "data": {
      "text/plain": [
       "True"
      ]
     },
     "execution_count": 78,
     "metadata": {},
     "output_type": "execute_result"
    }
   ],
   "source": [
    "# Check\n",
    "almost_there(104)"
   ]
  },
  {
   "cell_type": "code",
   "execution_count": 79,
   "metadata": {},
   "outputs": [
    {
     "data": {
      "text/plain": [
       "False"
      ]
     },
     "execution_count": 79,
     "metadata": {},
     "output_type": "execute_result"
    }
   ],
   "source": [
    "# Check\n",
    "almost_there(150)"
   ]
  },
  {
   "cell_type": "code",
   "execution_count": 80,
   "metadata": {},
   "outputs": [
    {
     "data": {
      "text/plain": [
       "True"
      ]
     },
     "execution_count": 80,
     "metadata": {},
     "output_type": "execute_result"
    }
   ],
   "source": [
    "# Check\n",
    "almost_there(209)"
   ]
  },
  {
   "cell_type": "markdown",
   "metadata": {},
   "source": [
    "# LEVEL 2 PROBLEMS"
   ]
  },
  {
   "cell_type": "markdown",
   "metadata": {},
   "source": [
    "#### FIND 33: \n",
    "\n",
    "Given a list of ints, return True if the array contains a 3 next to a 3 somewhere.\n",
    "\n",
    "    has_33([1, 3, 3]) → True\n",
    "    has_33([1, 3, 1, 3]) → False\n",
    "    has_33([3, 1, 3]) → False"
   ]
  },
  {
   "cell_type": "code",
   "execution_count": 97,
   "metadata": {},
   "outputs": [],
   "source": [
    "def has_33(nums):\n",
    "    temp=0\n",
    "    cc=0\n",
    "    c=0\n",
    "    for item in nums:\n",
    "        cc=cc+1\n",
    "        if temp==3 and item==3:\n",
    "            return True\n",
    "        else:\n",
    "            c=c+1\n",
    "        temp=item\n",
    "    if c==cc:\n",
    "        return False\n",
    "        \n",
    "        \n",
    "        \n",
    "        "
   ]
  },
  {
   "cell_type": "code",
   "execution_count": 98,
   "metadata": {},
   "outputs": [
    {
     "data": {
      "text/plain": [
       "True"
      ]
     },
     "execution_count": 98,
     "metadata": {},
     "output_type": "execute_result"
    }
   ],
   "source": [
    "# Check\n",
    "has_33([1, 3, 3])"
   ]
  },
  {
   "cell_type": "code",
   "execution_count": 99,
   "metadata": {},
   "outputs": [
    {
     "data": {
      "text/plain": [
       "False"
      ]
     },
     "execution_count": 99,
     "metadata": {},
     "output_type": "execute_result"
    }
   ],
   "source": [
    "# Check\n",
    "has_33([1, 3, 1, 3])"
   ]
  },
  {
   "cell_type": "code",
   "execution_count": null,
   "metadata": {},
   "outputs": [],
   "source": [
    "# Check\n",
    "has_33([3, 1, 3,3])"
   ]
  },
  {
   "cell_type": "markdown",
   "metadata": {},
   "source": [
    "#### PAPER DOLL: Given a string, return a string where for every character in the original there are three characters\n",
    "    paper_doll('Hello') --> 'HHHeeellllllooo'\n",
    "    paper_doll('Mississippi') --> 'MMMiiissssssiiippppppiii'"
   ]
  },
  {
   "cell_type": "code",
   "execution_count": 9,
   "metadata": {},
   "outputs": [],
   "source": [
    "def paper_doll(text):\n",
    "    li=list(text)\n",
    "    print(li)\n",
    "    count=0\n",
    "    s=''\n",
    "    for item in li:\n",
    "        s=s+item+item+item\n",
    "    print(s)    \n",
    "        \n",
    "       \n",
    "            "
   ]
  },
  {
   "cell_type": "code",
   "execution_count": 10,
   "metadata": {},
   "outputs": [
    {
     "name": "stdout",
     "output_type": "stream",
     "text": [
      "['H', 'e', 'l', 'l', 'o']\n",
      "HHHeeellllllooo\n"
     ]
    }
   ],
   "source": [
    "# Check\n",
    "paper_doll('Hello')"
   ]
  },
  {
   "cell_type": "code",
   "execution_count": 11,
   "metadata": {},
   "outputs": [
    {
     "name": "stdout",
     "output_type": "stream",
     "text": [
      "['M', 'i', 's', 's', 'i', 's', 's', 'i', 'p', 'p', 'i']\n",
      "MMMiiissssssiiissssssiiippppppiii\n"
     ]
    }
   ],
   "source": [
    "# Check\n",
    "paper_doll('Mississippi')"
   ]
  },
  {
   "cell_type": "markdown",
   "metadata": {},
   "source": [
    "#### BLACKJACK: Given three integers between 1 and 11, if their sum is less than or equal to 21, return their sum. If their sum exceeds 21 *and* there's an eleven, reduce the total sum by 10. Finally, if the sum (even after adjustment) exceeds 21, return 'BUST'\n",
    "    blackjack(5,6,7) --> 18\n",
    "    blackjack(9,9,9) --> 'BUST'\n",
    "    blackjack(9,9,11) --> 19"
   ]
  },
  {
   "cell_type": "code",
   "execution_count": 23,
   "metadata": {},
   "outputs": [],
   "source": [
    "def blackjack(a,b,c):\n",
    "    s=a+b+c\n",
    "    if s<=21:\n",
    "        return s\n",
    "    elif s>21 and (a==11 or b==11 or c==11):\n",
    "        s=s-10\n",
    "        return s\n",
    "    if s>21:\n",
    "        return 'BUST'\n",
    "    \n",
    "        "
   ]
  },
  {
   "cell_type": "code",
   "execution_count": 24,
   "metadata": {},
   "outputs": [
    {
     "data": {
      "text/plain": [
       "18"
      ]
     },
     "execution_count": 24,
     "metadata": {},
     "output_type": "execute_result"
    }
   ],
   "source": [
    "# Check\n",
    "blackjack(5,6,7)"
   ]
  },
  {
   "cell_type": "code",
   "execution_count": 25,
   "metadata": {},
   "outputs": [
    {
     "data": {
      "text/plain": [
       "'BUST'"
      ]
     },
     "execution_count": 25,
     "metadata": {},
     "output_type": "execute_result"
    }
   ],
   "source": [
    "# Check\n",
    "blackjack(9,9,9)"
   ]
  },
  {
   "cell_type": "code",
   "execution_count": 26,
   "metadata": {},
   "outputs": [
    {
     "data": {
      "text/plain": [
       "19"
      ]
     },
     "execution_count": 26,
     "metadata": {},
     "output_type": "execute_result"
    }
   ],
   "source": [
    "# Check\n",
    "blackjack(9,9,11)"
   ]
  },
  {
   "cell_type": "markdown",
   "metadata": {},
   "source": [
    "#### SUMMER OF '69: Return the sum of the numbers in the array, except ignore sections of numbers starting with a 6 and extending to the next 9 (every 6 will be followed by at least one 9). Return 0 for no numbers.\n",
    " \n",
    "    summer_69([1, 3, 5]) --> 9\n",
    "    summer_69([4, 5, 6, 7, 8, 9]) --> 9\n",
    "    summer_69([2, 1, 6, 9, 11]) --> 14"
   ]
  },
  {
   "cell_type": "code",
   "execution_count": 178,
   "metadata": {},
   "outputs": [
    {
     "ename": "IndentationError",
     "evalue": "expected an indented block (<ipython-input-178-2df65df91c34>, line 9)",
     "output_type": "error",
     "traceback": [
      "\u001b[1;36m  File \u001b[1;32m\"<ipython-input-178-2df65df91c34>\"\u001b[1;36m, line \u001b[1;32m9\u001b[0m\n\u001b[1;33m    pt=pt+1\u001b[0m\n\u001b[1;37m     ^\u001b[0m\n\u001b[1;31mIndentationError\u001b[0m\u001b[1;31m:\u001b[0m expected an indented block\n"
     ]
    }
   ],
   "source": [
    "def summer_69(arr):\n",
    "    s=0\n",
    "    pt=0\n",
    "    tt=0\n",
    "    \n",
    "    ct=0\n",
    "    for item in arr:\n",
    "        if item==6:\n",
    "            pt=pt+1\n",
    "            continue\n",
    "        if pt==1:\n",
    "            if item==9:\n",
    "                pt=2\n",
    "                continue\n",
    "            else:\n",
    "                continue   \n",
    "        s=s+item  \n",
    "    print(s) \n",
    "                    \n",
    "      "
   ]
  },
  {
   "cell_type": "code",
   "execution_count": 14,
   "metadata": {},
   "outputs": [
    {
     "name": "stdout",
     "output_type": "stream",
     "text": [
      "9\n"
     ]
    }
   ],
   "source": [
    "# Check\n",
    "summer_69([1, 3, 5])"
   ]
  },
  {
   "cell_type": "code",
   "execution_count": 15,
   "metadata": {},
   "outputs": [
    {
     "name": "stdout",
     "output_type": "stream",
     "text": [
      "9\n"
     ]
    }
   ],
   "source": [
    "# Check\n",
    "summer_69([4, 5, 6, 7, 8, 9])"
   ]
  },
  {
   "cell_type": "code",
   "execution_count": 16,
   "metadata": {},
   "outputs": [
    {
     "name": "stdout",
     "output_type": "stream",
     "text": [
      "14\n"
     ]
    }
   ],
   "source": [
    "# Check\n",
    "summer_69([2, 1, 6, 9, 11])"
   ]
  },
  {
   "cell_type": "markdown",
   "metadata": {},
   "source": [
    "# CHALLENGING PROBLEMS"
   ]
  },
  {
   "cell_type": "markdown",
   "metadata": {},
   "source": [
    "#### SPY GAME: Write a function that takes in a list of integers and returns True if it contains 007 in order\n",
    "\n",
    "     spy_game([1,2,4,0,0,7,5]) --> True\n",
    "     spy_game([1,0,2,4,0,5,7]) --> True\n",
    "     spy_game([1,7,2,0,4,5,0]) --> False\n"
   ]
  },
  {
   "cell_type": "code",
   "execution_count": 140,
   "metadata": {},
   "outputs": [],
   "source": [
    "def spy_game(nums):\n",
    "    pt,ct,tt,nt=0,0,0,0\n",
    "    li1=[]\n",
    "    s=''\n",
    "    for item in nums:\n",
    "        if item==0 and pt==0 :\n",
    "            li1.append(item)\n",
    "            pt=1\n",
    "            continue\n",
    "            \n",
    "        if pt==1:\n",
    "            if item==0:\n",
    "                tt=1\n",
    "            else:\n",
    "                tt=0\n",
    "                nt=nt+1\n",
    "            if item==0 and ct==0 and tt==1 and nt==0:\n",
    "                li1.append(item)\n",
    "                ct=1\n",
    "                pt=2\n",
    "                tt=2\n",
    "        if ct==1 and pt==2 and tt==2:  \n",
    "            if item==7:\n",
    "                li1.append(item) \n",
    "                ct=2\n",
    "                pt=3\n",
    "                tt=3\n",
    "    for item in li1:\n",
    "        s=s+str(item)\n",
    "    if s=='007':\n",
    "        return True\n",
    "    else:\n",
    "        return False\n",
    "   "
   ]
  },
  {
   "cell_type": "code",
   "execution_count": 141,
   "metadata": {},
   "outputs": [
    {
     "data": {
      "text/plain": [
       "True"
      ]
     },
     "execution_count": 141,
     "metadata": {},
     "output_type": "execute_result"
    }
   ],
   "source": [
    "# Check\n",
    "spy_game([1,2,4,0,0,7,5])"
   ]
  },
  {
   "cell_type": "code",
   "execution_count": 144,
   "metadata": {},
   "outputs": [
    {
     "data": {
      "text/plain": [
       "False"
      ]
     },
     "execution_count": 144,
     "metadata": {},
     "output_type": "execute_result"
    }
   ],
   "source": [
    "# Check\n",
    "spy_game([1,0,7,2,4,0,5,7])"
   ]
  },
  {
   "cell_type": "code",
   "execution_count": 143,
   "metadata": {},
   "outputs": [
    {
     "data": {
      "text/plain": [
       "False"
      ]
     },
     "execution_count": 143,
     "metadata": {},
     "output_type": "execute_result"
    }
   ],
   "source": [
    "# Check\n",
    "spy_game([1,7,2,0,4,5,0])"
   ]
  },
  {
   "cell_type": "markdown",
   "metadata": {},
   "source": [
    "#### COUNT PRIMES: Write a function that returns the *number* of prime numbers that exist up to and including a given number\n",
    "    count_primes(100) --> 25\n",
    "\n",
    "By convention, 0 and 1 are not prime."
   ]
  },
  {
   "cell_type": "code",
   "execution_count": 166,
   "metadata": {},
   "outputs": [],
   "source": [
    "def prime(number):\n",
    "    found=0\n",
    "    for n in range(2,int(number/2)+1):\n",
    "        if number%n==0:\n",
    "            found=found+1\n",
    "    if found==0:\n",
    "        return 1\n",
    "    else:\n",
    "        return 0"
   ]
  },
  {
   "cell_type": "code",
   "execution_count": 167,
   "metadata": {},
   "outputs": [],
   "source": [
    "def count_primes(num):\n",
    "    s=0\n",
    "    for number in range(2,num+1):\n",
    "        s=s+prime(number)\n",
    "    print(s)    \n",
    "        "
   ]
  },
  {
   "cell_type": "code",
   "execution_count": 168,
   "metadata": {},
   "outputs": [
    {
     "name": "stdout",
     "output_type": "stream",
     "text": [
      "62\n"
     ]
    }
   ],
   "source": [
    "# Check\n",
    "count_primes(300)"
   ]
  },
  {
   "cell_type": "markdown",
   "metadata": {},
   "source": [
    "### Just for fun:\n",
    "#### PRINT BIG: Write a function that takes in a single letter, and returns a 5x5 representation of that letter\n",
    "    print_big('a')\n",
    "    \n",
    "    out:   *  \n",
    "          * *\n",
    "         *****\n",
    "         *   *\n",
    "         *   *\n",
    "HINT: Consider making a dictionary of possible patterns, and mapping the alphabet to specific 5-line combinations of patterns. <br>For purposes of this exercise, it's ok if your dictionary stops at \"E\"."
   ]
  },
  {
   "cell_type": "code",
   "execution_count": 5,
   "metadata": {},
   "outputs": [],
   "source": [
    "#alphabet a pattern\n",
    "def pattern(letter):\n",
    "    s=''\n",
    "    if letter=='a':\n",
    "        for row in range(1,6):\n",
    "            for col in range(1,6):\n",
    "                if ((row==3)or((col==1 or col==5)and(row>2))or((row==1)and(col==3))or((row==2)and(col==2))or((row==2)and(col==4))):\n",
    "                    s=s+'*'\n",
    "                    \n",
    "                else:\n",
    "                    s=s+' '\n",
    "            s=s+'\\n'\n",
    "        return s\n",
    "    elif letter=='b':\n",
    "        for row in range(1,6):\n",
    "            for col in range(1,6):\n",
    "                if ((col==1)or((col<5)and((row==1)or(row==3)or(row==5)))or((col==5)and((row==2)or(row==4)))):\n",
    "                    s=s+'*'\n",
    "                else:\n",
    "                    s=s+' '\n",
    "            s=s+'\\n'\n",
    "        return s\n",
    "    elif letter=='c':\n",
    "        for row in range(1,6):\n",
    "            for col in range(1,6):\n",
    "                if ((((row==1)or(row==5))and(col!=1))or((col==1)and((row==2)or(row==3)or(row==4)))):\n",
    "                    s=s+'*'\n",
    "                else:\n",
    "                    s=s+' '\n",
    "            s=s+'\\n'\n",
    "        return s \n",
    "    elif letter=='d':\n",
    "        for row in range(1,6):\n",
    "            for col in range(1,6):\n",
    "                if ((col==1)or((col<5)and((row==1)or(row==5)))or((col==5)and((row==2)or(row==3)or(row==4)))):\n",
    "                    s=s+'*'\n",
    "                else:\n",
    "                    s=s+' '\n",
    "            s=s+'\\n'\n",
    "        return s\n",
    "    elif letter=='e':\n",
    "        for row in range(1,6):\n",
    "            for col in range(1,6):\n",
    "                if (((col==1)or(row==1)or(row==5))or((row==3)and(col<4))):\n",
    "                    s=s+'*'\n",
    "                else:\n",
    "                    s=s+' '\n",
    "            s=s+'\\n'\n",
    "        return s\n",
    "    elif letter=='f':\n",
    "        for row in range(1,6):\n",
    "            for col in range(1,6):\n",
    "                if (((col==1)or(row==1)or(row==3))):\n",
    "                    s=s+'*'\n",
    "                else:\n",
    "                    s=s+' '\n",
    "            s=s+'\\n'\n",
    "        return s\n",
    "    elif letter=='g':\n",
    "        for row in range(1,6):\n",
    "            for col in range(1,6):\n",
    "                if (((row==1)and(col!=1))or((col==1)and((row!=1)and(row!=5))or((row==5)and(col!=4)))or((row==3)and(col>2))or((row==4)and((col==3)or(col==5)))):\n",
    "                    s=s+'*'\n",
    "                else:\n",
    "                    s=s+' '\n",
    "            s=s+'\\n'\n",
    "        return s\n",
    "    elif letter=='h':\n",
    "        for row in range(1,6):\n",
    "            for col in range(1,6):\n",
    "                if ((col==1)or(col==5)or(row==3)):\n",
    "                    s=s+'*'\n",
    "                else:\n",
    "                    s=s+' '\n",
    "            s=s+'\\n'\n",
    "        return s\n",
    "    elif letter=='i':\n",
    "        for row in range(1,6):\n",
    "            for col in range(1,6):\n",
    "                if ((row==1)or(row==5)or(col==3)):\n",
    "                    s=s+'*'\n",
    "                else:\n",
    "                    s=s+' '\n",
    "            s=s+'\\n'\n",
    "        return s\n",
    "    elif letter=='j':\n",
    "        for row in range(1,6):\n",
    "            for col in range(1,6):\n",
    "                if (((row==1)or(col==3))or((row==5)and(col==2))or((row)==4)and(col==1)):\n",
    "                    s=s+'*'\n",
    "                else:\n",
    "                    s=s+' '\n",
    "            s=s+'\\n'\n",
    "        return s\n",
    "    elif letter=='k':\n",
    "        for row in range(1,6):\n",
    "            for col in range(1,6):\n",
    "                if ((col==1)or(((row==5)or(row==1))and(col==5))or((col==4)and((row==2)or(row==4)))or(row==3)and((col==2)or(col==3))):\n",
    "                    s=s+'*'\n",
    "                else:\n",
    "                    s=s+' '\n",
    "            s=s+'\\n'\n",
    "        return s\n",
    "    elif letter=='l':\n",
    "        for row in range(1,6):\n",
    "            for col in range(1,6):\n",
    "                if ((col==1)or((row==5)and(col>1))):\n",
    "                    s=s+'*'\n",
    "                else:\n",
    "                    s=s+' '\n",
    "            s=s+'\\n'\n",
    "        return s\n",
    "    elif letter=='m':\n",
    "        for row in range(1,6):\n",
    "            for col in range(1,6):\n",
    "                if ((col==1)or(col==5)or((row==2)and((col==2)or(col==4)))or((row==3)and(col==3))):\n",
    "                    s=s+'*'\n",
    "                else:\n",
    "                    s=s+' '\n",
    "            s=s+'\\n'\n",
    "        return s\n",
    "    elif letter=='n':\n",
    "        for row in range(1,6):\n",
    "            for col in range(1,6):\n",
    "                if ((col==1)or(col==5)or(col==row)):\n",
    "                    s=s+'*'\n",
    "                else:\n",
    "                    s=s+' '\n",
    "            s=s+'\\n'\n",
    "        return s\n",
    "    elif letter=='o':\n",
    "        for row in range(1,6):\n",
    "            for col in range(1,6):\n",
    "                if (((row==1)or(row==5))and((col>1) and (col<5))or((col==1)or(col==5))and((row>1)and(row<5))):\n",
    "                    s=s+'*'\n",
    "                else:\n",
    "                    s=s+' '\n",
    "            s=s+'\\n'\n",
    "        return s\n",
    "    elif letter=='p':\n",
    "        for row in range(1,6):\n",
    "            for col in range(1,6):\n",
    "                if ((col==1)or(((row==1)or(row==3))and(col>1)and(col<5))or((row==2)and(col==5))):\n",
    "                    s=s+'*'\n",
    "                else:\n",
    "                    s=s+' '\n",
    "            s=s+'\\n'\n",
    "        return s\n",
    "    elif letter=='q':\n",
    "        for row in range(1,6):\n",
    "            for col in range(1,6):\n",
    "                if ((((row==1)or(row==5))and((col>1)and(col<4)))or(row==2 and (col!=3 and col!=5)) or (row==3 and (col!=2 and col!=5))or(row==4 and(col!=2 and col!=3))):\n",
    "                    s=s+'*'\n",
    "                else:\n",
    "                    s=s+' '\n",
    "            s=s+'\\n'\n",
    "        return s\n",
    "    elif letter=='r':\n",
    "        for row in range(1,6):\n",
    "            for col in range(1,6):\n",
    "                if ((col==1)or(row==1)or(((row==5)or(row==1))and(col==5))or((col==4)and((row==2)or(row==4)))or(row==3)and((col==2)or(col==3))):\n",
    "                    s=s+'*'\n",
    "                else:\n",
    "                    s=s+' '\n",
    "            s=s+'\\n'\n",
    "        return s\n",
    "    elif letter=='s':\n",
    "        for row in range(1,6):\n",
    "            for col in range(1,6):\n",
    "                if ((row==1 and(col>2))or((row==5)and(col>1 and col<5))or(row==2 and col==2)or (row==4 and(col==1 or col==5))or(row==3 and (col==3 or col==4))):\n",
    "                    s=s+'*'\n",
    "                else:\n",
    "                    s=s+' '\n",
    "            s=s+'\\n'\n",
    "        return s\n",
    "    elif letter=='t':\n",
    "        for row in range(1,6):\n",
    "            for col in range(1,6):\n",
    "                if ((col==3)or(row==1)):\n",
    "                    s=s+'*'\n",
    "                else:\n",
    "                    s=s+' '\n",
    "            s=s+'\\n'\n",
    "        return s\n",
    "    elif letter=='u':\n",
    "        for row in range(1,6):\n",
    "            for col in range(1,6):\n",
    "                if (((row==5)and((col>1) and (col<5)))or((col==1)or(col==5))and((row>1)and(row<5))):\n",
    "                    s=s+'*'\n",
    "                else:\n",
    "                    s=s+' '\n",
    "            s=s+'\\n'\n",
    "        return s\n",
    "    elif letter=='v':\n",
    "        for row in range(1,6):\n",
    "            for col in range(1,6):\n",
    "                if (((row==5)and(col==3))or((col==1)or(col==5))and((row>1)and(row<5))):\n",
    "                    s=s+'*'\n",
    "                else:\n",
    "                    s=s+' '\n",
    "            s=s+'\\n'\n",
    "        return s\n",
    "    elif letter=='w':\n",
    "        for row in range(1,6):\n",
    "            for col in range(1,6):\n",
    "                if ((col==1)or(col==5)or(row==3 and col==3) or (row==4 and(col==2 or col==4))):\n",
    "                    s=s+'*'\n",
    "                else:\n",
    "                    s=s+' '\n",
    "            s=s+'\\n'\n",
    "        return s\n",
    "    elif letter=='x':\n",
    "        for row in range(1,6):\n",
    "            for col in range(1,6):\n",
    "                if ((col==row)or(((row==1 or row==5))and(col==5 or col==1))or((row==2 or row==4)and(col==2 or col==4))):\n",
    "                    s=s+'*'\n",
    "                else:\n",
    "                    s=s+' '\n",
    "            s=s+'\\n'\n",
    "        s=s+'\\t'   \n",
    "        return s\n",
    "    elif letter=='y':\n",
    "        for row in range(1,6):\n",
    "            for col in range(1,6):\n",
    "                if (((row==1)and((col==1)or(col==5)))or((row==2)and((col==2)or(col==4)))or((row>2)and(col==3))):\n",
    "                    s=s+'*'\n",
    "                else:\n",
    "                    s=s+' '\n",
    "            s=s+'\\n'\n",
    "        return s\n",
    "    elif letter=='z':\n",
    "        for row in range(1,6):\n",
    "            for col in range(1,6):\n",
    "                if ((row==1)or(row==5)or((col==2)and(row==4))or((row==2)and(col==4))or((row==3)and(col==3))):\n",
    "                    s=s+'*'\n",
    "                else:\n",
    "                    s=s+' '\n",
    "            s=s+'\\n'\n",
    "        return s\n",
    "    else:\n",
    "        return ' \\n'\n",
    "        \n",
    "\n",
    "    "
   ]
  },
  {
   "cell_type": "code",
   "execution_count": 6,
   "metadata": {},
   "outputs": [],
   "source": [
    "alpha={}\n",
    "for letter in 'abcdefghijklmnopqrstuvwxyz':\n",
    "    alpha[letter]=pattern(letter)\n",
    "alpha[' ']='\\n'    \n",
    "    "
   ]
  },
  {
   "cell_type": "code",
   "execution_count": 7,
   "metadata": {},
   "outputs": [
    {
     "name": "stdout",
     "output_type": "stream",
     "text": [
      "Enter Name:Xenia\n",
      "NAME\n",
      "\u001b[38;5;170m*   *\n",
      " * * \n",
      "  *  \n",
      " * * \n",
      "*   *\n",
      "\t \u001b[1m\u001b[5m\n",
      "\u001b[38;5;4m*****\n",
      "*    \n",
      "***  \n",
      "*    \n",
      "*****\n",
      " \u001b[1m\u001b[5m\n",
      "\u001b[38;5;190m*   *\n",
      "**  *\n",
      "* * *\n",
      "*  **\n",
      "*   *\n",
      " \u001b[1m\u001b[5m\n",
      "\u001b[38;5;248m*****\n",
      "  *  \n",
      "  *  \n",
      "  *  \n",
      "*****\n",
      " \u001b[1m\u001b[5m\n",
      "\u001b[38;5;196m  *  \n",
      " * * \n",
      "*****\n",
      "*   *\n",
      "*   *\n",
      " \u001b[1m\u001b[5m\n"
     ]
    }
   ],
   "source": [
    "from colored import fg, bg, attr\n",
    "import random as r\n",
    "name=input('Enter Name:')\n",
    "s=''\n",
    "forcolor=0\n",
    "backcolor=0\n",
    "li=[]\n",
    "print(\"NAME\")\n",
    "    # pr\n",
    "for item in name:\n",
    "    forcolor=r.randint(0,255)\n",
    "    print ('%s%s%s%s' % (fg(forcolor),alpha[item.lower()]+' ',attr('bold'), attr(5)))\n",
    "    \n",
    " \n",
    "    \n",
    "    "
   ]
  },
  {
   "cell_type": "code",
   "execution_count": null,
   "metadata": {},
   "outputs": [],
   "source": [
    "from colored import fg, bg, attr\n",
    "print ('{} Hello World !!! {}' .format(fg(1), attr(5)))\n",
    "print ('{}{} Hello World !!! {}'.format(fg(1), bg(15), attr(5)))\n"
   ]
  },
  {
   "cell_type": "code",
   "execution_count": 10,
   "metadata": {},
   "outputs": [
    {
     "name": "stdout",
     "output_type": "stream",
     "text": [
      "\u001b[38;5;170m\u001b[1m Hello World !!! \u001b[5m\n"
     ]
    }
   ],
   "source": [
    "print ('%s%s Hello World !!! %s' % (fg('orchid'), attr('bold'), attr('blink')))\n"
   ]
  },
  {
   "cell_type": "code",
   "execution_count": 8,
   "metadata": {},
   "outputs": [
    {
     "name": "stdout",
     "output_type": "stream",
     "text": [
      "Requirement already satisfied: colored in c:\\users\\anant\\anaconda3\\lib\\site-packages (1.3.93)\n"
     ]
    }
   ],
   "source": [
    "!pip install colored\n"
   ]
  },
  {
   "cell_type": "markdown",
   "metadata": {},
   "source": [
    "## Great Job!"
   ]
  },
  {
   "cell_type": "code",
   "execution_count": 8,
   "metadata": {},
   "outputs": [
    {
     "name": "stdout",
     "output_type": "stream",
     "text": [
      "\u001b[0;37;40m Normal text\n",
      "\n",
      "\u001b[2;37;40m Underlined text\u001b[0;37;40m \n",
      "\n",
      "\u001b[1;37;40m Bright Colour\u001b[0;37;40m \n",
      "\n",
      "\u001b[3;37;40m Negative Colour\u001b[0;37;40m \n",
      "\n",
      "\u001b[5;37;40m Negative Colour\u001b[0;37;40m\n",
      "\n",
      "\u001b[1;37;40m \u001b[2;37:40m TextColour BlackBackground          TextColour GreyBackground                WhiteText ColouredBackground\u001b[0;37;40m\n",
      "\n",
      "\u001b[1;30;40m Dark Gray      \u001b[0m 1;30;40m            \u001b[0;30;47m Black      \u001b[0m 0;30;47m               \u001b[0;37;41m Black      \u001b[0m 0;37;41m\n",
      "\u001b[1;31;40m Bright Red     \u001b[0m 1;31;40m            \u001b[0;31;47m Red        \u001b[0m 0;31;47m               \u001b[0;37;42m Black      \u001b[0m 0;37;42m\n",
      "\u001b[1;32;40m Bright Green   \u001b[0m 1;32;40m            \u001b[0;32;47m Green      \u001b[0m 0;32;47m               \u001b[0;37;43m Black      \u001b[0m 0;37;43m\n",
      "\u001b[1;33;40m Yellow         \u001b[0m 1;33;40m            \u001b[0;33;47m Brown      \u001b[0m 0;33;47m               \u001b[0;37;44m Black      \u001b[0m 0;37;44m\n",
      "\u001b[1;34;40m Bright Blue    \u001b[0m 1;34;40m            \u001b[0;34;47m Blue       \u001b[0m 0;34;47m               \u001b[0;37;45m Black      \u001b[0m 0;37;45m\n",
      "\u001b[1;35;40m Bright Magenta \u001b[0m 1;35;40m            \u001b[0;35;47m Magenta    \u001b[0m 0;35;47m               \u001b[0;37;46m Black      \u001b[0m 0;37;46m\n",
      "\u001b[1;36;40m Bright Cyan    \u001b[0m 1;36;40m            \u001b[0;36;47m Cyan       \u001b[0m 0;36;47m               \u001b[0;37;47m Black      \u001b[0m 0;37;47m\n",
      "\u001b[1;37;40m White          \u001b[0m 1;37;40m            \u001b[0;37;40m Light Grey \u001b[0m 0;37;40m               \u001b[0;37;48m Black      \u001b[0m 0;37;48m\n"
     ]
    }
   ],
   "source": [
    "print(\"\\033[0;37;40m Normal text\\n\")\n",
    "print(\"\\033[2;37;40m Underlined text\\033[0;37;40m \\n\")\n",
    "print(\"\\033[1;37;40m Bright Colour\\033[0;37;40m \\n\")\n",
    "print(\"\\033[3;37;40m Negative Colour\\033[0;37;40m \\n\")\n",
    "print(\"\\033[5;37;40m Negative Colour\\033[0;37;40m\\n\")\n",
    " \n",
    "print(\"\\033[1;37;40m \\033[2;37:40m TextColour BlackBackground          TextColour GreyBackground                WhiteText ColouredBackground\\033[0;37;40m\\n\")\n",
    "print(\"\\033[1;30;40m Dark Gray      \\033[0m 1;30;40m            \\033[0;30;47m Black      \\033[0m 0;30;47m               \\033[0;37;41m Black      \\033[0m 0;37;41m\")\n",
    "print(\"\\033[1;31;40m Bright Red     \\033[0m 1;31;40m            \\033[0;31;47m Red        \\033[0m 0;31;47m               \\033[0;37;42m Black      \\033[0m 0;37;42m\")\n",
    "print(\"\\033[1;32;40m Bright Green   \\033[0m 1;32;40m            \\033[0;32;47m Green      \\033[0m 0;32;47m               \\033[0;37;43m Black      \\033[0m 0;37;43m\")\n",
    "print(\"\\033[1;33;40m Yellow         \\033[0m 1;33;40m            \\033[0;33;47m Brown      \\033[0m 0;33;47m               \\033[0;37;44m Black      \\033[0m 0;37;44m\")\n",
    "print(\"\\033[1;34;40m Bright Blue    \\033[0m 1;34;40m            \\033[0;34;47m Blue       \\033[0m 0;34;47m               \\033[0;37;45m Black      \\033[0m 0;37;45m\")\n",
    "print(\"\\033[1;35;40m Bright Magenta \\033[0m 1;35;40m            \\033[0;35;47m Magenta    \\033[0m 0;35;47m               \\033[0;37;46m Black      \\033[0m 0;37;46m\")\n",
    "print(\"\\033[1;36;40m Bright Cyan    \\033[0m 1;36;40m            \\033[0;36;47m Cyan       \\033[0m 0;36;47m               \\033[0;37;47m Black      \\033[0m 0;37;47m\")\n",
    "print(\"\\033[1;37;40m White          \\033[0m 1;37;40m            \\033[0;37;40m Light Grey \\033[0m 0;37;40m               \\033[0;37;48m Black      \\033[0m 0;37;48m\")"
   ]
  },
  {
   "cell_type": "code",
   "execution_count": 10,
   "metadata": {},
   "outputs": [
    {
     "name": "stdout",
     "output_type": "stream",
     "text": [
      "{'a': '  *  \\n * * \\n*****\\n*   *\\n*   *\\n', 'b': '**** \\n*   *\\n**** \\n*   *\\n**** \\n', 'c': ' ****\\n*    \\n*    \\n*    \\n ****\\n', 'd': '**** \\n*   *\\n*   *\\n*   *\\n**** \\n', 'e': '*****\\n*    \\n***  \\n*    \\n*****\\n', 'f': '*****\\n*    \\n*****\\n*    \\n*    \\n', 'g': ' ****\\n*    \\n* ***\\n* * *\\n*** *\\n', 'h': '*   *\\n*   *\\n*****\\n*   *\\n*   *\\n', 'i': '*****\\n  *  \\n  *  \\n  *  \\n*****\\n', 'j': '*****\\n  *  \\n  *  \\n* *  \\n **  \\n', 'k': '*   *\\n*  * \\n***  \\n*  * \\n*   *\\n', 'l': '*    \\n*    \\n*    \\n*    \\n*****\\n', 'm': '*   *\\n** **\\n* * *\\n*   *\\n*   *\\n', 'n': '*   *\\n**  *\\n* * *\\n*  **\\n*   *\\n', 'o': ' *** \\n*   *\\n*   *\\n*   *\\n *** \\n', 'p': '**** \\n*   *\\n**** \\n*    \\n*    \\n', 'q': ' **  \\n** * \\n* ** \\n*  **\\n **  \\n', 'r': '*****\\n*  * \\n***  \\n*  * \\n*   *\\n', 's': '  ***\\n *   \\n  ** \\n*   *\\n *** \\n', 't': '*****\\n  *  \\n  *  \\n  *  \\n  *  \\n', 'u': '     \\n*   *\\n*   *\\n*   *\\n *** \\n', 'v': '     \\n*   *\\n*   *\\n*   *\\n  *  \\n', 'w': '*   *\\n*   *\\n* * *\\n** **\\n*   *\\n', 'x': '*   *\\n * * \\n  *  \\n * * \\n*   *\\n', 'y': '*   *\\n * * \\n  *  \\n  *  \\n  *  \\n', 'z': '*****\\n   * \\n  *  \\n *   \\n*****\\n'}\n"
     ]
    }
   ],
   "source": [
    "print(a)"
   ]
  },
  {
   "cell_type": "code",
   "execution_count": 1,
   "metadata": {},
   "outputs": [],
   "source": [
    "def pattern(letter):\n",
    "    s=''\n",
    "    if letter=='d':\n",
    "        for row in range(1,6):\n",
    "            for col in range(1,6):\n",
    "                if ((col==1)or((col<5)and((row==1)or(row==5)))or((col==5)and((row==2)or(row==3)or(row==4)))):\n",
    "                    s=s+'*'\n",
    "                else:\n",
    "                    s=s+' '\n",
    "            s=s+'\\n'\n",
    "    return s"
   ]
  },
  {
   "cell_type": "code",
   "execution_count": null,
   "metadata": {},
   "outputs": [],
   "source": [
    "pattern"
   ]
  },
  {
   "cell_type": "code",
   "execution_count": 93,
   "metadata": {},
   "outputs": [],
   "source": [
    "def pattern(letter):\n",
    "    s=''\n",
    "    if letter=='g':\n",
    "        for row in range(1,6):\n",
    "            for col in range(1,6):\n",
    "                if (((row==1)and(col!=1))or((col==1)and((row!=1)and(row!=5))or((row==5)and(col!=4)))or((row==3)and(col>2))or((row==4)and((col==3)or(col==5)))):\n",
    "                    s=s+'*'\n",
    "                else:\n",
    "                    s=s+' '\n",
    "            s=s+'\\n'\n",
    "        return s\n",
    "   el"
   ]
  },
  {
   "cell_type": "code",
   "execution_count": 72,
   "metadata": {},
   "outputs": [],
   "source": [
    "def pattern(letter):\n",
    "    s=''\n",
    "    if letter=='h':\n",
    "        for row in range(1,6):\n",
    "            for col in range(1,6):\n",
    "                if ((col==1)or(col==5)or(row==3)):\n",
    "                    s=s+'*'\n",
    "                else:\n",
    "                    s=s+' '\n",
    "            s=s+'\\n'\n",
    "    return s"
   ]
  },
  {
   "cell_type": "code",
   "execution_count": 74,
   "metadata": {},
   "outputs": [],
   "source": [
    "def pattern(letter):\n",
    "    s=''\n",
    "    if letter=='i':\n",
    "        for row in range(1,6):\n",
    "            for col in range(1,6):\n",
    "                if ((row==1)or(row==5)or(col==3)):\n",
    "                    s=s+'*'\n",
    "                else:\n",
    "                    s=s+' '\n",
    "            s=s+'\\n'\n",
    "        return s"
   ]
  },
  {
   "cell_type": "code",
   "execution_count": 76,
   "metadata": {},
   "outputs": [],
   "source": [
    "def pattern(letter):\n",
    "    s=''\n",
    "    if letter=='j':\n",
    "        for row in range(1,6):\n",
    "            for col in range(1,6):\n",
    "                if (((row==1)or(col==3))or((row==5)and(col==2))or((row)==4)and(col==1)):\n",
    "                    s=s+'*'\n",
    "                else:\n",
    "                    s=s+' '\n",
    "            s=s+'\\n'\n",
    "    return s"
   ]
  },
  {
   "cell_type": "code",
   "execution_count": 4,
   "metadata": {},
   "outputs": [],
   "source": [
    "def pattern(letter):\n",
    "    s=''\n",
    "    if letter=='r':\n",
    "        for row in range(1,6):\n",
    "            for col in range(1,6):\n",
    "                if ((col==1)or(row==1)or(((row==5)or(row==1))and(col==5))or((col==4)and((row==2)or(row==4)))or(row==3)and((col==2)or(col==3))):\n",
    "                    s=s+'*'\n",
    "                else:\n",
    "                    s=s+' '\n",
    "            s=s+'\\n'\n",
    "    return"
   ]
  },
  {
   "cell_type": "code",
   "execution_count": 5,
   "metadata": {},
   "outputs": [
    {
     "name": "stdout",
     "output_type": "stream",
     "text": [
      "*****\n",
      "*  * \n",
      "***  \n",
      "*  * \n",
      "*   *\n",
      "\n"
     ]
    }
   ],
   "source": [
    "pattern('r')"
   ]
  },
  {
   "cell_type": "code",
   "execution_count": 104,
   "metadata": {},
   "outputs": [],
   "source": [
    "def pattern(letter):\n",
    "    s=''\n",
    "    if letter=='n':\n",
    "        for row in range(1,6):\n",
    "            for col in range(1,6):\n",
    "                if ((col==1)or(col==5)or(col==row)):\n",
    "                    s=s+'*'\n",
    "                else:\n",
    "                    s=s+' '\n",
    "            s=s+'\\n'\n",
    "    return s"
   ]
  },
  {
   "cell_type": "code",
   "execution_count": null,
   "metadata": {},
   "outputs": [],
   "source": [
    "def pattern(letter):\n",
    "    s=''\n",
    "    if letter=='k':\n",
    "        for row in range(1,6):\n",
    "            for col in range(1,6):\n",
    "                if ((col==1)or(((row==5)or(row==1))and(col==5))or((col==4)and((row==2)or(row==4)))or(row==3)and((col==2)or(col==3))):\n",
    "                    s=s+'*'\n",
    "                else:\n",
    "                    s=s+' '\n",
    "            s=s+'\\n'\n",
    "    print(s)"
   ]
  },
  {
   "cell_type": "code",
   "execution_count": 109,
   "metadata": {},
   "outputs": [],
   "source": [
    "def pattern(letter):\n",
    "    s=''\n",
    "    if letter=='p':\n",
    "        for row in range(1,6):\n",
    "            for col in range(1,6):\n",
    "                if ((col==1)or(((row==1)or(row==3))and(col>1)and(col<5))or((row==2)and(col==5))):\n",
    "                    s=s+'*'\n",
    "                else:\n",
    "                    s=s+' '\n",
    "            s=s+'\\n'\n",
    "    return s"
   ]
  },
  {
   "cell_type": "code",
   "execution_count": 111,
   "metadata": {},
   "outputs": [],
   "source": [
    "def pattern(letter):\n",
    "    s=''\n",
    "    if letter=='t':\n",
    "        for row in range(1,6):\n",
    "            for col in range(1,6):\n",
    "                if ((col==3)or(row==1)):\n",
    "                    s=s+'*'\n",
    "                else:\n",
    "                    s=s+' '\n",
    "            s=s+'\\n'\n",
    "    return s"
   ]
  },
  {
   "cell_type": "code",
   "execution_count": null,
   "metadata": {},
   "outputs": [],
   "source": [
    "def pattern(letter):\n",
    "    s=''\n",
    "    if letter=='t':\n",
    "        for row in range(1,6):\n",
    "            for col in range(1,6):\n",
    "                if ((col==3)or(row==1)):\n",
    "                    s=s+'*'\n",
    "                else:\n",
    "                    s=s+' '\n",
    "            s=s+'\\n'\n",
    "    return s"
   ]
  },
  {
   "cell_type": "code",
   "execution_count": 115,
   "metadata": {},
   "outputs": [],
   "source": [
    "def pattern(letter):\n",
    "    s=''\n",
    "    if letter=='u':\n",
    "        for row in range(1,6):\n",
    "            for col in range(1,6):\n",
    "                if (((row==5)and((col>1) and (col<5)))or((col==1)or(col==5))and((row>1)and(row<5))):\n",
    "                    s=s+'*'\n",
    "                else:\n",
    "                    s=s+' '\n",
    "            s=s+'\\n'\n",
    "    return s"
   ]
  },
  {
   "cell_type": "code",
   "execution_count": 117,
   "metadata": {},
   "outputs": [],
   "source": [
    "def pattern(letter):\n",
    "    s=''\n",
    "    if letter=='v':\n",
    "        for row in range(1,6):\n",
    "            for col in range(1,6):\n",
    "                if (((row==5)and(col==3))or((col==1)or(col==5))and((row>1)and(row<5))):\n",
    "                    s=s+'*'\n",
    "                else:\n",
    "                    s=s+' '\n",
    "            s=s+'\\n'\n",
    "    return s"
   ]
  },
  {
   "cell_type": "code",
   "execution_count": 65,
   "metadata": {},
   "outputs": [],
   "source": [
    "def pattern(letter):\n",
    "    s=''\n",
    "    if letter=='v':\n",
    "        for row in range(1,6):\n",
    "            for col in range(1,6):\n",
    "                if (((row==5)and(col==3))or((col==1)or(col==5))and((row>1)and(row<5))):\n",
    "                    s=s+'*'\n",
    "                else:\n",
    "                    s=s+' '\n",
    "            s=s+'\\n'\n",
    "    return s"
   ]
  },
  {
   "cell_type": "code",
   "execution_count": 66,
   "metadata": {},
   "outputs": [
    {
     "data": {
      "text/plain": [
       "'     \\n*   *\\n*   *\\n*   *\\n  *  \\n'"
      ]
     },
     "execution_count": 66,
     "metadata": {},
     "output_type": "execute_result"
    }
   ],
   "source": [
    "pattern('v')"
   ]
  },
  {
   "cell_type": "code",
   "execution_count": 71,
   "metadata": {},
   "outputs": [],
   "source": [
    "def pattern(letter):\n",
    "    s=''\n",
    "    if letter=='e':\n",
    "        for row in range(1,6):\n",
    "            for col in range(1,6):\n",
    "                if (((col==1)or(row==1)or(row==5))or((row==3)and(col<4))):\n",
    "                    s=s+'*'\n",
    "                else:\n",
    "                    s=s+' '\n",
    "            s=s+'\\n'\n",
    "    return s"
   ]
  },
  {
   "cell_type": "code",
   "execution_count": null,
   "metadata": {},
   "outputs": [],
   "source": [
    "def pattern(letter):\n",
    "    s=''\n",
    "    if letter=='o':\n",
    "        for row in range(1,6):\n",
    "            for col in range(1,6):\n",
    "                if (((row==1)or(row==5))and((col>1) and (col<5))or((col==1)or(col==5))and((row>1)and(row<5))):\n",
    "                    s=s+'*'\n",
    "                else:\n",
    "                    s=s+' '\n",
    "            s=s+'\\n'\n",
    "    return s"
   ]
  },
  {
   "cell_type": "code",
   "execution_count": null,
   "metadata": {},
   "outputs": [],
   "source": [
    "def pattern(letter):\n",
    "    s=''\n",
    "    if letter=='m':\n",
    "        for row in range(1,6):\n",
    "            for col in range(1,6):\n",
    "                if ((col==1)or(col==5)or((row==2)and((col==2)or(col==4)))or((row==3)and(col==3))):\n",
    "                    s=s+'*'\n",
    "                else:\n",
    "                    s=s+' '\n",
    "            s=s+'\\n'\n",
    "    return s"
   ]
  },
  {
   "cell_type": "code",
   "execution_count": null,
   "metadata": {},
   "outputs": [],
   "source": [
    "def pattern(letter):\n",
    "    s=''\n",
    "    if letter=='l':\n",
    "        for row in range(1,6):\n",
    "            for col in range(1,6):\n",
    "                if ((col==1)or((row==5)and(col>1))):\n",
    "                    s=s+'*'\n",
    "                else:\n",
    "                    s=s+' '\n",
    "            s=s+'\\n'\n",
    "    return s"
   ]
  },
  {
   "cell_type": "code",
   "execution_count": null,
   "metadata": {},
   "outputs": [],
   "source": []
  },
  {
   "cell_type": "code",
   "execution_count": null,
   "metadata": {},
   "outputs": [],
   "source": [
    "def pattern(letter):\n",
    "    s=''\n",
    "    if letter=='e':\n",
    "        for row in range(1,6):\n",
    "            for col in range(1,6):\n",
    "                if (((col==1)or(row==1)or(row==5))or((row==3)and(col<4))):\n",
    "                    s=s+'*'\n",
    "                else:\n",
    "                    s=s+' '\n",
    "            s=s+'\\n'\n",
    "    return s"
   ]
  },
  {
   "cell_type": "code",
   "execution_count": null,
   "metadata": {},
   "outputs": [],
   "source": [
    "def pattern(letter):\n",
    "    s=''\n",
    "    if letter=='f':\n",
    "        for row in range(1,6):\n",
    "            for col in range(1,6):\n",
    "                if (((col==1)or(row==1)or(row==3))):\n",
    "                    s=s+'*'\n",
    "                else:\n",
    "                    s=s+' '\n",
    "            s=s+'\\n'\n",
    "        return s"
   ]
  },
  {
   "cell_type": "code",
   "execution_count": 62,
   "metadata": {},
   "outputs": [
    {
     "name": "stdout",
     "output_type": "stream",
     "text": [
      "*****\n",
      "*    \n",
      "*****\n",
      "*    \n",
      "*    \n",
      "\n"
     ]
    }
   ],
   "source": [
    "pattern('f')"
   ]
  },
  {
   "cell_type": "code",
   "execution_count": null,
   "metadata": {},
   "outputs": [],
   "source": [
    "def pattern(letter):\n",
    "    s=''\n",
    "    if letter=='b':\n",
    "        for row in range(1,6):\n",
    "            for col in range(1,6):\n",
    "                if ((col==1)or((col<5)and((row==1)or(row==3)or(row==5)))or((col==5)and((row==2)or(row==4)))):\n",
    "                    s=s+'*'\n",
    "                else:\n",
    "                    s=s+' '\n",
    "            s=s+'\\n'\n",
    "    return s"
   ]
  },
  {
   "cell_type": "code",
   "execution_count": null,
   "metadata": {},
   "outputs": [],
   "source": [
    "def pattern(letter):\n",
    "    s=''\n",
    "    if letter=='c':\n",
    "        for row in range(1,6):\n",
    "            for col in range(1,6):\n",
    "                if ((((row==1)or(row==5))and(col!=1))or((col==1)and((row==2)or(row==3)or(row==4)))):\n",
    "                    s=s+'*'\n",
    "                else:\n",
    "                    s=s+' '\n",
    "            s=s+'\\n'\n",
    "    return s  "
   ]
  },
  {
   "cell_type": "code",
   "execution_count": null,
   "metadata": {},
   "outputs": [],
   "source": [
    "def pattern(letter):\n",
    "    s=''\n",
    "    if letter=='e':\n",
    "        for row in range(1,6):\n",
    "            for col in range(1,6):\n",
    "                if (((col==1)or(row==1)or(row==5))or((row==3)and(col<4))):\n",
    "                    s=s+'*'\n",
    "                else:\n",
    "                    s=s+' '\n",
    "            s=s+'\\n'\n",
    "    return s"
   ]
  },
  {
   "cell_type": "code",
   "execution_count": 121,
   "metadata": {},
   "outputs": [],
   "source": [
    "def pattern(letter):\n",
    "    s=''\n",
    "    if letter=='z':\n",
    "        for row in range(1,6):\n",
    "            for col in range(1,6):\n",
    "                if ((row==1)or(row==5)or((col==2)and(row==4))or((row==2)and(col==4))or((row==3)and(col==3))):\n",
    "                    s=s+'*'\n",
    "                else:\n",
    "                    s=s+' '\n",
    "            s=s+'\\n'\n",
    "    return s"
   ]
  },
  {
   "cell_type": "code",
   "execution_count": 6,
   "metadata": {},
   "outputs": [],
   "source": [
    "def pattern(letter):\n",
    "    s=''\n",
    "    if letter=='y':\n",
    "        for row in range(1,6):\n",
    "            for col in range(1,6):\n",
    "                if (((row==1)and((col==1)or(col==5)))or((row==2)and((col==2)or(col==4)))or((row>2)and(col==3))):\n",
    "                    s=s+'*'\n",
    "                else:\n",
    "                    s=s+' '\n",
    "            s=s+'\\n'\n",
    "    return s"
   ]
  },
  {
   "cell_type": "code",
   "execution_count": 35,
   "metadata": {},
   "outputs": [],
   "source": [
    "def pattern(letter):\n",
    "    s=''\n",
    "    if letter=='q':\n",
    "        for row in range(1,6):\n",
    "            for col in range(1,6):\n",
    "                if ((((row==1)or(row==5))and((col>1)and(col<4)))or(row==2 and (col!=3 and col!=5)) or (row==3 and (col!=2 and col!=5))or(row==4 and(col!=2 and col!=3))):\n",
    "                    s=s+'*'\n",
    "                else:\n",
    "                    s=s+' '\n",
    "            s=s+'\\n'\n",
    "    return s"
   ]
  },
  {
   "cell_type": "code",
   "execution_count": 59,
   "metadata": {},
   "outputs": [],
   "source": [
    "def pattern(letter):\n",
    "    s=''\n",
    "    if letter=='k':\n",
    "        for row in range(1,6):\n",
    "            for col in range(1,6):\n",
    "                if ((col==1)or(row==1)or(((row==5)or(row==1))and(col==5))or((col==4)and((row==2)or(row==4)))or(row==3)and((col==2)or(col==3))):\n",
    "                    s=s+'*'\n",
    "                else:\n",
    "                    s=s+' '\n",
    "            s=s+'\\n'\n",
    "    return s"
   ]
  },
  {
   "cell_type": "code",
   "execution_count": 43,
   "metadata": {},
   "outputs": [],
   "source": [
    "def pattern(letter):\n",
    "    s=''\n",
    "    if letter=='w':\n",
    "        for row in range(1,6):\n",
    "            for col in range(1,6):\n",
    "                if ((col==1)or(col==5)or(row==3 and col==3) or (row==4 and(col==2 or col==4))):\n",
    "                    s=s+'*'\n",
    "                else:\n",
    "                    s=s+' '\n",
    "            s=s+'\\n'\n",
    "    return s"
   ]
  },
  {
   "cell_type": "code",
   "execution_count": 57,
   "metadata": {},
   "outputs": [],
   "source": [
    "def pattern(letter):\n",
    "    s=''\n",
    "    if letter=='s':\n",
    "        for row in range(1,6):\n",
    "            for col in range(1,6):\n",
    "                if ((row==1 and(col>2))or((row==5)and(col>1 and col<5))or(row==2 and col==2)or (row==4 and(col==1 or col==5))or(row==3 and (col==3 or col==4))):\n",
    "                    s=s+'*'\n",
    "                else:\n",
    "                    s=s+' '\n",
    "            s=s+'\\n'\n",
    "    return s"
   ]
  },
  {
   "cell_type": "code",
   "execution_count": null,
   "metadata": {},
   "outputs": [],
   "source": [
    "def pattern(letter):\n",
    "    s=''\n",
    "    if letter=='w':\n",
    "        for row in range(1,6):\n",
    "            for col in range(1,6):\n",
    "                if ((col==1)or(col==5)or(row==3 and col==3) or (row==4 and(col==2 or col==4))):\n",
    "                    s=s+'*'\n",
    "                else:\n",
    "                    s=s+' '\n",
    "            s=s+'\\n'\n",
    "    return s"
   ]
  },
  {
   "cell_type": "code",
   "execution_count": 60,
   "metadata": {
    "scrolled": true
   },
   "outputs": [
    {
     "data": {
      "text/plain": [
       "'*****\\n*  * \\n***  \\n*  * \\n*   *\\n'"
      ]
     },
     "execution_count": 60,
     "metadata": {},
     "output_type": "execute_result"
    }
   ],
   "source": [
    "pattern('k')"
   ]
  },
  {
   "cell_type": "code",
   "execution_count": 46,
   "metadata": {},
   "outputs": [],
   "source": [
    "def pattern(letter):\n",
    "    s=''\n",
    "    if letter=='x':\n",
    "        for row in range(1,6):\n",
    "            for col in range(1,6):\n",
    "                if ((col==row)or(((row==1 or row==5))and(col==5 or col==1))or((row==2 or row==4)and(col==2 or col==4))):\n",
    "                    s=s+'*'\n",
    "                else:\n",
    "                    s=s+' '\n",
    "            s=s+'\\n'\n",
    "    return s\n",
    "   "
   ]
  },
  {
   "cell_type": "code",
   "execution_count": null,
   "metadata": {},
   "outputs": [],
   "source": []
  },
  {
   "cell_type": "code",
   "execution_count": null,
   "metadata": {},
   "outputs": [],
   "source": []
  }
 ],
 "metadata": {
  "kernelspec": {
   "display_name": "Python 3",
   "language": "python",
   "name": "python3"
  },
  "language_info": {
   "codemirror_mode": {
    "name": "ipython",
    "version": 3
   },
   "file_extension": ".py",
   "mimetype": "text/x-python",
   "name": "python",
   "nbconvert_exporter": "python",
   "pygments_lexer": "ipython3",
   "version": "3.7.1"
  }
 },
 "nbformat": 4,
 "nbformat_minor": 2
}
